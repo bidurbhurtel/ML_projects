{
  "nbformat": 4,
  "nbformat_minor": 0,
  "metadata": {
    "colab": {
      "name": "house_price_prediction.ipynb",
      "provenance": [],
      "collapsed_sections": []
    },
    "kernelspec": {
      "name": "python3",
      "display_name": "Python 3"
    },
    "accelerator": "GPU"
  },
  "cells": [
    {
      "cell_type": "code",
      "metadata": {
        "id": "h3MX8QyP2AnB"
      },
      "source": [
        "# Loading packages\n",
        "import pandas as pd\n",
        "import numpy as np\n",
        "import matplotlib.pyplot as plt\n",
        "from sklearn import metrics\n",
        "from sklearn.linear_model import LinearRegression\n",
        "from sklearn.preprocessing import PolynomialFeatures\n",
        "from sklearn.model_selection import train_test_split"
      ],
      "execution_count": 1,
      "outputs": []
    },
    {
      "cell_type": "code",
      "metadata": {
        "id": "wFZj2Haf3Hbn"
      },
      "source": [
        "# Reading data\n",
        "dataset = pd.read_csv('USA_Housing.csv')"
      ],
      "execution_count": 2,
      "outputs": []
    },
    {
      "cell_type": "code",
      "metadata": {
        "id": "aXaeIvZj34wr",
        "colab": {
          "base_uri": "https://localhost:8080/",
          "height": 357
        },
        "outputId": "e39aaf79-0e94-4771-ba79-cc22362a4ed1"
      },
      "source": [
        "# Top data\n",
        "dataset.head()"
      ],
      "execution_count": null,
      "outputs": [
        {
          "output_type": "execute_result",
          "data": {
            "text/html": [
              "<div>\n",
              "<style scoped>\n",
              "    .dataframe tbody tr th:only-of-type {\n",
              "        vertical-align: middle;\n",
              "    }\n",
              "\n",
              "    .dataframe tbody tr th {\n",
              "        vertical-align: top;\n",
              "    }\n",
              "\n",
              "    .dataframe thead th {\n",
              "        text-align: right;\n",
              "    }\n",
              "</style>\n",
              "<table border=\"1\" class=\"dataframe\">\n",
              "  <thead>\n",
              "    <tr style=\"text-align: right;\">\n",
              "      <th></th>\n",
              "      <th>Avg. Area Income</th>\n",
              "      <th>Avg. Area House Age</th>\n",
              "      <th>Avg. Area Number of Rooms</th>\n",
              "      <th>Avg. Area Number of Bedrooms</th>\n",
              "      <th>Area Population</th>\n",
              "      <th>Price</th>\n",
              "      <th>Address</th>\n",
              "    </tr>\n",
              "  </thead>\n",
              "  <tbody>\n",
              "    <tr>\n",
              "      <th>0</th>\n",
              "      <td>79545.458574</td>\n",
              "      <td>5.682861</td>\n",
              "      <td>7.009188</td>\n",
              "      <td>4.09</td>\n",
              "      <td>23086.800503</td>\n",
              "      <td>1.059034e+06</td>\n",
              "      <td>208 Michael Ferry Apt. 674\\nLaurabury, NE 3701...</td>\n",
              "    </tr>\n",
              "    <tr>\n",
              "      <th>1</th>\n",
              "      <td>79248.642455</td>\n",
              "      <td>6.002900</td>\n",
              "      <td>6.730821</td>\n",
              "      <td>3.09</td>\n",
              "      <td>40173.072174</td>\n",
              "      <td>1.505891e+06</td>\n",
              "      <td>188 Johnson Views Suite 079\\nLake Kathleen, CA...</td>\n",
              "    </tr>\n",
              "    <tr>\n",
              "      <th>2</th>\n",
              "      <td>61287.067179</td>\n",
              "      <td>5.865890</td>\n",
              "      <td>8.512727</td>\n",
              "      <td>5.13</td>\n",
              "      <td>36882.159400</td>\n",
              "      <td>1.058988e+06</td>\n",
              "      <td>9127 Elizabeth Stravenue\\nDanieltown, WI 06482...</td>\n",
              "    </tr>\n",
              "    <tr>\n",
              "      <th>3</th>\n",
              "      <td>63345.240046</td>\n",
              "      <td>7.188236</td>\n",
              "      <td>5.586729</td>\n",
              "      <td>3.26</td>\n",
              "      <td>34310.242831</td>\n",
              "      <td>1.260617e+06</td>\n",
              "      <td>USS Barnett\\nFPO AP 44820</td>\n",
              "    </tr>\n",
              "    <tr>\n",
              "      <th>4</th>\n",
              "      <td>59982.197226</td>\n",
              "      <td>5.040555</td>\n",
              "      <td>7.839388</td>\n",
              "      <td>4.23</td>\n",
              "      <td>26354.109472</td>\n",
              "      <td>6.309435e+05</td>\n",
              "      <td>USNS Raymond\\nFPO AE 09386</td>\n",
              "    </tr>\n",
              "  </tbody>\n",
              "</table>\n",
              "</div>"
            ],
            "text/plain": [
              "   Avg. Area Income  ...                                            Address\n",
              "0      79545.458574  ...  208 Michael Ferry Apt. 674\\nLaurabury, NE 3701...\n",
              "1      79248.642455  ...  188 Johnson Views Suite 079\\nLake Kathleen, CA...\n",
              "2      61287.067179  ...  9127 Elizabeth Stravenue\\nDanieltown, WI 06482...\n",
              "3      63345.240046  ...                          USS Barnett\\nFPO AP 44820\n",
              "4      59982.197226  ...                         USNS Raymond\\nFPO AE 09386\n",
              "\n",
              "[5 rows x 7 columns]"
            ]
          },
          "metadata": {
            "tags": []
          },
          "execution_count": 3
        }
      ]
    },
    {
      "cell_type": "code",
      "metadata": {
        "id": "9UsSytBW37Sa"
      },
      "source": [
        "# Saving dataframe\n",
        "df  = dataset"
      ],
      "execution_count": null,
      "outputs": []
    },
    {
      "cell_type": "code",
      "metadata": {
        "id": "44hrUcn76xlS",
        "colab": {
          "base_uri": "https://localhost:8080/",
          "height": 153
        },
        "outputId": "12741c63-b40e-400d-9bcf-f5b61e714bbb"
      },
      "source": [
        "# Checking NANs\n",
        "print(\"Checking if any null values are present\", dataset.isna().sum())"
      ],
      "execution_count": null,
      "outputs": [
        {
          "output_type": "stream",
          "text": [
            "Checking if any null values are present Avg. Area Income                0\n",
            "Avg. Area House Age             0\n",
            "Avg. Area Number of Rooms       0\n",
            "Avg. Area Number of Bedrooms    0\n",
            "Area Population                 0\n",
            "Price                           0\n",
            "Address                         0\n",
            "dtype: int64\n"
          ],
          "name": "stdout"
        }
      ]
    },
    {
      "cell_type": "code",
      "metadata": {
        "id": "myskqgHJ5CFX"
      },
      "source": [
        "# Spliting label and features columns\n",
        "feature_cols = [\"Avg. Area Income\", \"Avg. Area House Age\", \"Avg. Area Number of Rooms\", \"Avg. Area Number of Bedrooms\",\"Area Population\"]\n",
        "label_cols = [\"Price\"]"
      ],
      "execution_count": null,
      "outputs": []
    },
    {
      "cell_type": "code",
      "metadata": {
        "id": "ASma8o_86TFm"
      },
      "source": [
        "# Splitting training and test set\n",
        "df_train, df_test = train_test_split(df, test_size = 0.3, shuffle = True)"
      ],
      "execution_count": null,
      "outputs": []
    },
    {
      "cell_type": "code",
      "metadata": {
        "id": "YVUvWjtP8LPm"
      },
      "source": [
        "# Training Set\n",
        "X_train = df_train.loc[:, feature_cols].values\n",
        "y_train = df_train.loc[:, label_cols].values"
      ],
      "execution_count": null,
      "outputs": []
    },
    {
      "cell_type": "code",
      "metadata": {
        "id": "Yh8zFoJI8lKv"
      },
      "source": [
        "# Test Set\n",
        "X_test = df_test.loc[:, feature_cols].values\n",
        "y_test = df_test.loc[:, label_cols].values"
      ],
      "execution_count": null,
      "outputs": []
    },
    {
      "cell_type": "code",
      "metadata": {
        "id": "9BW0xUUcAfcm",
        "colab": {
          "base_uri": "https://localhost:8080/",
          "height": 279
        },
        "outputId": "5684733c-1335-4139-9630-08e5ad58115c"
      },
      "source": [
        "# \n",
        "plt.scatter(X_train[:,0], y_train)\n",
        "plt.xlabel('Avg. Area Income')\n",
        "plt.ylabel('Price')\n",
        "plt.show()"
      ],
      "execution_count": null,
      "outputs": [
        {
          "output_type": "display_data",
          "data": {
            "image/png": "[encoded data removed]",
            "text/plain": [
              "<Figure size 432x288 with 1 Axes>"
            ]
          },
          "metadata": {
            "tags": []
          }
        }
      ]
    },
    {
      "cell_type": "code",
      "metadata": {
        "id": "CTzCe-12BpyL",
        "colab": {
          "base_uri": "https://localhost:8080/",
          "height": 279
        },
        "outputId": "4bebe1c0-a770-4072-97af-c87033309dbe"
      },
      "source": [
        "plt.scatter(X_train[:,1], y_train)\n",
        "plt.xlabel('Avg. Area House Age')\n",
        "plt.ylabel('Price')\n",
        "plt.show()"
      ],
      "execution_count": null,
      "outputs": [
        {
          "output_type": "display_data",
          "data": {
            "image/png": "[encoded data removed]",
            "text/plain": [
              "<Figure size 432x288 with 1 Axes>"
            ]
          },
          "metadata": {
            "tags": []
          }
        }
      ]
    },
    {
      "cell_type": "code",
      "metadata": {
        "id": "JlKHir3SBypR",
        "colab": {
          "base_uri": "https://localhost:8080/",
          "height": 279
        },
        "outputId": "5730f596-85b2-4b5b-c27e-e4bb349dd7e5"
      },
      "source": [
        "plt.scatter(X_train[:,2], y_train)\n",
        "plt.xlabel('Avg. Area No. of Roooms')\n",
        "plt.ylabel('Price')\n",
        "plt.show()"
      ],
      "execution_count": null,
      "outputs": [
        {
          "output_type": "display_data",
          "data": {
            "image/png": "[encoded data removed]",
            "text/plain": [
              "<Figure size 432x288 with 1 Axes>"
            ]
          },
          "metadata": {
            "tags": []
          }
        }
      ]
    },
    {
      "cell_type": "code",
      "metadata": {
        "id": "0RiMqlIxB3_H",
        "colab": {
          "base_uri": "https://localhost:8080/",
          "height": 279
        },
        "outputId": "3415a435-ebb0-4fec-f69b-c1d2f784ffe4"
      },
      "source": [
        "plt.scatter(X_train[:,3], y_train)\n",
        "plt.xlabel('Avg. Area No. of Bedrooms')\n",
        "plt.ylabel('Price')\n",
        "plt.show()"
      ],
      "execution_count": null,
      "outputs": [
        {
          "output_type": "display_data",
          "data": {
            "image/png": "[encoded data removed]",
            "text/plain": [
              "<Figure size 432x288 with 1 Axes>"
            ]
          },
          "metadata": {
            "tags": []
          }
        }
      ]
    },
    {
      "cell_type": "code",
      "metadata": {
        "id": "YDwfvAbtCD8M",
        "colab": {
          "base_uri": "https://localhost:8080/",
          "height": 279
        },
        "outputId": "e83fbd46-81a3-475e-b478-092a828cc0da"
      },
      "source": [
        "plt.scatter(X_train[:,4], y_train)\n",
        "plt.xlabel('Avg. Area Population')\n",
        "plt.ylabel('Price')\n",
        "plt.show()"
      ],
      "execution_count": null,
      "outputs": [
        {
          "output_type": "display_data",
          "data": {
            "image/png": "[encoded data removed]",
            "text/plain": [
              "<Figure size 432x288 with 1 Axes>"
            ]
          },
          "metadata": {
            "tags": []
          }
        }
      ]
    },
    {
      "cell_type": "code",
      "metadata": {
        "id": "QawHxVopCSNu"
      },
      "source": [
        "# Linear Regressor\n",
        "regressor = LinearRegression()\n",
        "regressor.fit(X_train, y_train)  \n",
        "y_test_pred = regressor.predict(X_test)"
      ],
      "execution_count": null,
      "outputs": []
    },
    {
      "cell_type": "code",
      "metadata": {
        "id": "lNdpaaFvkk0h",
        "colab": {
          "base_uri": "https://localhost:8080/",
          "height": 85
        },
        "outputId": "e9c83fb1-debb-42a6-c8ad-184de3e4c167"
      },
      "source": [
        "# Calculate Mean Absolute Error between y_test and y_test_pred\n",
        "# Calculate Mean Squared Error between y_test and y_test_pred\n",
        "# Calculate Root Mean Squared Error between y_test and y_test_pred\n",
        "# Calculate R2 between y_test and y_test_pred\n",
        "print('Mean Absolute Error:', metrics.mean_absolute_error(y_test, y_test_pred))  \n",
        "print('Mean Squared Error:', metrics.mean_squared_error(y_test, y_test_pred))  \n",
        "print('Root Mean Squared Error:', np.sqrt(metrics.mean_squared_error(y_test, y_test_pred)))\n",
        "print('R2 :', metrics.r2_score(y_test, y_test_pred))"
      ],
      "execution_count": null,
      "outputs": [
        {
          "output_type": "stream",
          "text": [
            "Mean Absolute Error: 80827.30047926039\n",
            "Mean Squared Error: 10166516512.535904\n",
            "Root Mean Squared Error: 100829.14515424547\n",
            "R2 : 0.9218909291191121\n"
          ],
          "name": "stdout"
        }
      ]
    },
    {
      "cell_type": "code",
      "metadata": {
        "id": "VB5-IxcmlNIs",
        "colab": {
          "base_uri": "https://localhost:8080/",
          "height": 51
        },
        "outputId": "417276ab-4f66-4ccb-8e45-8bada21f8573"
      },
      "source": [
        "regressor.coef_"
      ],
      "execution_count": null,
      "outputs": [
        {
          "output_type": "execute_result",
          "data": {
            "text/plain": [
              "array([[2.13646930e+01, 1.65555492e+05, 1.20777616e+05, 1.40966795e+03,\n",
              "        1.50740203e+01]])"
            ]
          },
          "metadata": {
            "tags": []
          },
          "execution_count": 17
        }
      ]
    },
    {
      "cell_type": "code",
      "metadata": {
        "id": "VC5OvME8nzVE",
        "colab": {
          "base_uri": "https://localhost:8080/",
          "height": 34
        },
        "outputId": "bad5a7f7-00ed-4975-9be9-3ffdb771022e"
      },
      "source": [
        "regressor.intercept_"
      ],
      "execution_count": null,
      "outputs": [
        {
          "output_type": "execute_result",
          "data": {
            "text/plain": [
              "array([-2618645.91826554])"
            ]
          },
          "metadata": {
            "tags": []
          },
          "execution_count": 18
        }
      ]
    },
    {
      "cell_type": "code",
      "metadata": {
        "id": "5yozuLKnn8C3"
      },
      "source": [
        "# Adding Polynomial features\n",
        "poly = PolynomialFeatures(3)"
      ],
      "execution_count": null,
      "outputs": []
    },
    {
      "cell_type": "code",
      "metadata": {
        "id": "imfNHSRioYDt"
      },
      "source": [
        "X_train_poly = poly.fit_transform(X_train)"
      ],
      "execution_count": null,
      "outputs": []
    },
    {
      "cell_type": "code",
      "metadata": {
        "id": "ioItR2tRqxDq"
      },
      "source": [
        "X_test_poly = poly.fit_transform(X_test)"
      ],
      "execution_count": null,
      "outputs": []
    },
    {
      "cell_type": "code",
      "metadata": {
        "id": "yjQ59oFupMvR"
      },
      "source": [
        "# Fitting the model\n",
        "regressor_poly = LinearRegression()\n",
        "regressor_poly.fit(X_train_poly, y_train)\n",
        "y_pred_poly = regressor_poly.predict(X_test_poly)"
      ],
      "execution_count": null,
      "outputs": []
    },
    {
      "cell_type": "code",
      "metadata": {
        "id": "CtYPzUnYqqwo",
        "colab": {
          "base_uri": "https://localhost:8080/",
          "height": 85
        },
        "outputId": "e925abe7-4ed4-4da6-a42c-f6f46c8c771f"
      },
      "source": [
        "# Calculate Mean Absolute Error between y_test and y_test_pred\n",
        "# Calculate Mean Squared Error between y_test and y_test_pred\n",
        "# Calculate Root Mean Squared Error between y_test and y_test_pred\n",
        "# Calculate R2 between y_test and y_test_pred\n",
        "print('Mean Absolute Error Poly:', metrics.mean_absolute_error(y_test, y_pred_poly))  \n",
        "print('Mean Squared Error Poly:', metrics.mean_squared_error(y_test, y_pred_poly))  \n",
        "print('Root Mean Squared Error Poly:', np.sqrt(metrics.mean_squared_error(y_test, y_pred_poly)))\n",
        "print('R2 Poly:', metrics.r2_score(y_test, y_pred_poly))"
      ],
      "execution_count": null,
      "outputs": [
        {
          "output_type": "stream",
          "text": [
            "Mean Absolute Error Poly: 86522.77742768703\n",
            "Mean Squared Error Poly: 11721307092.098642\n",
            "Root Mean Squared Error Poly: 108264.98553132791\n",
            "R2 Poly: 0.9099455152269244\n"
          ],
          "name": "stdout"
        }
      ]
    },
    {
      "cell_type": "code",
      "metadata": {
        "id": "0arogT1MrKpm",
        "colab": {
          "base_uri": "https://localhost:8080/",
          "height": 136
        },
        "outputId": "9db83404-ed88-45c2-dce8-0327ddcac364"
      },
      "source": [
        "regressor_poly.coef_"
      ],
      "execution_count": null,
      "outputs": [
        {
          "output_type": "execute_result",
          "data": {
            "text/plain": [
              "array([[ 0.00000000e+00,  2.13161100e+01,  1.76725030e+05,\n",
              "         1.26492868e+05,  1.54340959e+04,  1.34009382e+01,\n",
              "         7.05571776e-06, -2.00274908e-02, -2.49105057e-01,\n",
              "         7.02724048e-02,  2.75513558e-05,  8.85379386e+02,\n",
              "        -1.67555166e+03, -1.33868315e+03, -7.50201232e-02,\n",
              "         1.75040370e+03, -3.93595913e+02, -5.21195771e-04,\n",
              "        -1.14939173e+03, -6.89710872e-03,  3.97540172e-06]])"
            ]
          },
          "metadata": {
            "tags": []
          },
          "execution_count": 35
        }
      ]
    },
    {
      "cell_type": "code",
      "metadata": {
        "id": "XtWFacySrPQp",
        "colab": {
          "base_uri": "https://localhost:8080/",
          "height": 34
        },
        "outputId": "7203f599-078c-47b4-8158-b7b21b8b89aa"
      },
      "source": [
        "regressor_poly.intercept_"
      ],
      "execution_count": null,
      "outputs": [
        {
          "output_type": "execute_result",
          "data": {
            "text/plain": [
              "array([-2686136.73875487])"
            ]
          },
          "metadata": {
            "tags": []
          },
          "execution_count": 36
        }
      ]
    },
    {
      "cell_type": "code",
      "metadata": {
        "id": "IWk26Sq-fMmO"
      },
      "source": [
        ""
      ],
      "execution_count": null,
      "outputs": []
    }
  ]
}